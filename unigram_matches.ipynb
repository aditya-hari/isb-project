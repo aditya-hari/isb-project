{
 "cells": [
  {
   "cell_type": "code",
   "execution_count": 1,
   "id": "61493486",
   "metadata": {},
   "outputs": [],
   "source": [
    "import regex as re"
   ]
  },
  {
   "cell_type": "code",
   "execution_count": 213,
   "id": "7f204a96",
   "metadata": {},
   "outputs": [],
   "source": [
    "def find_unigram_matches(skill, txt):\n",
    "    unigrams = re.findall(r'\\w+', skill)\n",
    "    pattern = '|'.join(unigrams)\n",
    "    matches = re.findall(pattern, txt)\n",
    "    return set(matches), unigrams"
   ]
  },
  {
   "cell_type": "code",
   "execution_count": 214,
   "id": "0b6e61a3",
   "metadata": {},
   "outputs": [],
   "source": [
    "found_sent = 0\n",
    "total = 0"
   ]
  },
  {
   "cell_type": "code",
   "execution_count": 215,
   "id": "997566e3",
   "metadata": {},
   "outputs": [],
   "source": [
    "for i in range(1, 101):\n",
    "    txt = list(map(lambda x: x.strip().lower(), open(f'processed_data/processed_{i}', 'r').readlines()))\n",
    "    skills = list(map(lambda x: x.strip().lower(), open(f'processed_data/skills_{i}', 'r').readlines()))\n",
    "    if(len(skills)):\n",
    "        #print(\"*********************PROCESSED NUMBER \", i)\n",
    "        for skill_line in skills:\n",
    "            #print(skill_line)\n",
    "            for txt_line in txt:\n",
    "                matches, unigrams = find_unigram_matches(skill_line, txt_line)\n",
    "                #if(len(matches)): ## to match any part of unigram\n",
    "                if(len(matches) == len(unigrams)):\n",
    "                    #print(matches, txt_line)\n",
    "                    found_sent+=1\n",
    "                    break\n",
    "            total+=1"
   ]
  },
  {
   "cell_type": "code",
   "execution_count": 216,
   "id": "026ce51f",
   "metadata": {},
   "outputs": [
    {
     "data": {
      "text/plain": [
       "738"
      ]
     },
     "execution_count": 216,
     "metadata": {},
     "output_type": "execute_result"
    }
   ],
   "source": [
    "found_sent"
   ]
  },
  {
   "cell_type": "code",
   "execution_count": 217,
   "id": "93aff634",
   "metadata": {},
   "outputs": [
    {
     "data": {
      "text/plain": [
       "1132"
      ]
     },
     "execution_count": 217,
     "metadata": {},
     "output_type": "execute_result"
    }
   ],
   "source": [
    "total"
   ]
  },
  {
   "cell_type": "code",
   "execution_count": 218,
   "id": "9d5b0c3f",
   "metadata": {},
   "outputs": [
    {
     "name": "stdout",
     "output_type": "stream",
     "text": [
      "0.6519434628975265\n"
     ]
    }
   ],
   "source": [
    "print(found_sent/total)"
   ]
  },
  {
   "cell_type": "code",
   "execution_count": 219,
   "id": "7ff87cbf",
   "metadata": {},
   "outputs": [],
   "source": [
    "found_txt = 0"
   ]
  },
  {
   "cell_type": "code",
   "execution_count": 220,
   "id": "cd27b84c",
   "metadata": {},
   "outputs": [],
   "source": [
    "for i in range(1, 101):\n",
    "    txt = open(f'isb/processed_{i}', 'r').read().lower()\n",
    "    skills = list(map(lambda x: x.strip().lower(), open(f'processed_data/skills_{i}', 'r').readlines()))\n",
    "    if(len(skills)):\n",
    "        #print(\"*********************PROCESSED NUMBER \", i)\n",
    "        for skill_line in skills:\n",
    "            #print(skill_line)\n",
    "            matches, unigrams = find_unigram_matches(skill_line, txt)\n",
    "            if(len(matches) == len(unigrams)):\n",
    "                #print(matches, txt_line)\n",
    "                found_txt+=1"
   ]
  },
  {
   "cell_type": "code",
   "execution_count": 221,
   "id": "218a3316",
   "metadata": {},
   "outputs": [
    {
     "data": {
      "text/plain": [
       "790"
      ]
     },
     "execution_count": 221,
     "metadata": {},
     "output_type": "execute_result"
    }
   ],
   "source": [
    "found_txt"
   ]
  },
  {
   "cell_type": "code",
   "execution_count": 222,
   "id": "1db94e5f",
   "metadata": {},
   "outputs": [
    {
     "data": {
      "text/plain": [
       "0.6978798586572438"
      ]
     },
     "execution_count": 222,
     "metadata": {},
     "output_type": "execute_result"
    }
   ],
   "source": [
    "found_txt/total"
   ]
  }
 ],
 "metadata": {
  "kernelspec": {
   "display_name": "Python 3 (ipykernel)",
   "language": "python",
   "name": "python3"
  },
  "language_info": {
   "codemirror_mode": {
    "name": "ipython",
    "version": 3
   },
   "file_extension": ".py",
   "mimetype": "text/x-python",
   "name": "python",
   "nbconvert_exporter": "python",
   "pygments_lexer": "ipython3",
   "version": "3.9.7"
  }
 },
 "nbformat": 4,
 "nbformat_minor": 5
}
